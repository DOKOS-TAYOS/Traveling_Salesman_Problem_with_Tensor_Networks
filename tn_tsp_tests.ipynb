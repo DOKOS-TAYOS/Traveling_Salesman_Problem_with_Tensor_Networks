{
 "cells": [
  {
   "cell_type": "markdown",
   "metadata": {
    "id": "GBpk4rzKrbgq"
   },
   "source": [
    "# Travelling Salesman Problem with Tensor Networks\n"
   ]
  },
  {
   "cell_type": "markdown",
   "metadata": {
    "id": "s6DvlD42rbgv"
   },
   "source": [
    "In this notebook, we will implement a solver for the Traveling Salesman Problem using a tensor network algorithm based on imaginary time evolution and the signal method. For this purpose, we will use the Tensorkrowch library, which allows us to connect to PyTorch and leverage many of its properties and functions.\n",
    "\n",
    "The reference paper is: https://arxiv.org/abs/2311.14344"
   ]
  },
  {
   "cell_type": "markdown",
   "metadata": {},
   "source": [
    "Requirements:"
   ]
  },
  {
   "cell_type": "markdown",
   "metadata": {},
   "source": [
    "Required packages:\n",
    "- tensorkrowch >= 1.1.6\n",
    "- torch >= 2.7.1\n",
    "- numpy >= 2.1.3\n",
    "- ortools >= 9.14.6206\n"
   ]
  },
  {
   "cell_type": "code",
   "execution_count": null,
   "metadata": {
    "executionInfo": {
     "elapsed": 4380,
     "status": "ok",
     "timestamp": 1740850140359,
     "user": {
      "displayName": "Alejandro Mata Ali",
      "userId": "15666806753439061254"
     },
     "user_tz": -60
    },
    "id": "jzVrMlXPrbgx"
   },
   "outputs": [],
   "source": [
    "import torch\n",
    "\n",
    "from auxiliary_functions import generate_problem\n",
    "from test_functions import solve_tsp_full_with_tn, solve_tsp_truncated_with_tn, tn_vs_ortools"
   ]
  },
  {
   "cell_type": "markdown",
   "metadata": {
    "id": "VhSuFNN4rbg4"
   },
   "source": [
    "---\n",
    "# Basic use Tests"
   ]
  },
  {
   "cell_type": "markdown",
   "metadata": {},
   "source": [
    "OR tools has a runtime limit of 2 times the runtime of the TN algorithm."
   ]
  },
  {
   "cell_type": "markdown",
   "metadata": {},
   "source": [
    "## Basic test of the TN solver"
   ]
  },
  {
   "cell_type": "markdown",
   "metadata": {},
   "source": [
    "### Fully connected"
   ]
  },
  {
   "cell_type": "code",
   "execution_count": null,
   "metadata": {},
   "outputs": [],
   "source": [
    "n_cities = 6\n",
    "max_connections = 6\n",
    "distance_range = 5\n",
    "\n",
    "torch.manual_seed(421)\n",
    "tau = 10\n",
    "\n",
    "distances_matrix = generate_problem(n_cities, max_connections, distance_range)\n",
    "\n",
    "solution = solve_tsp_full_with_tn(distances_matrix, tau)\n"
   ]
  },
  {
   "cell_type": "code",
   "execution_count": null,
   "metadata": {},
   "outputs": [],
   "source": [
    "n_cities = 16\n",
    "max_connections = 16\n",
    "distance_range = 5\n",
    "\n",
    "torch.manual_seed(421)\n",
    "tau = 10\n",
    "\n",
    "distances_matrix = generate_problem(n_cities, max_connections, distance_range)\n",
    "\n",
    "solution = solve_tsp_full_with_tn(distances_matrix, tau)"
   ]
  },
  {
   "cell_type": "markdown",
   "metadata": {},
   "source": [
    "### Sparse"
   ]
  },
  {
   "cell_type": "code",
   "execution_count": null,
   "metadata": {},
   "outputs": [],
   "source": [
    "n_cities = 6\n",
    "max_connections = 4\n",
    "distance_range = 5\n",
    "\n",
    "torch.manual_seed(421)\n",
    "tau = 10\n",
    "\n",
    "distances_matrix = generate_problem(n_cities, max_connections, distance_range)\n",
    "\n",
    "solution = solve_tsp_full_with_tn(distances_matrix, tau)\n"
   ]
  },
  {
   "cell_type": "code",
   "execution_count": null,
   "metadata": {},
   "outputs": [],
   "source": [
    "n_cities = 16\n",
    "max_connections = 12\n",
    "distance_range = 5\n",
    "\n",
    "torch.manual_seed(421)\n",
    "tau = 10\n",
    "\n",
    "distances_matrix = generate_problem(n_cities, max_connections, distance_range)\n",
    "\n",
    "solution = solve_tsp_full_with_tn(distances_matrix, tau)"
   ]
  },
  {
   "cell_type": "markdown",
   "metadata": {},
   "source": [
    "## Basic use truncated number of layers"
   ]
  },
  {
   "cell_type": "markdown",
   "metadata": {},
   "source": [
    "### Full connected"
   ]
  },
  {
   "cell_type": "code",
   "execution_count": null,
   "metadata": {},
   "outputs": [],
   "source": [
    "n_cities = 6\n",
    "max_connections = 6\n",
    "distance_range = 5\n",
    "\n",
    "torch.manual_seed(421)\n",
    "tau = 10\n",
    "n_layers = 3\n",
    "\n",
    "distances_matrix = generate_problem(n_cities, max_connections, distance_range)\n",
    "\n",
    "solution = solve_tsp_truncated_with_tn(distances_matrix, tau, n_layers)\n"
   ]
  },
  {
   "cell_type": "code",
   "execution_count": null,
   "metadata": {},
   "outputs": [],
   "source": [
    "n_cities = 16\n",
    "max_connections = 16\n",
    "distance_range = 5\n",
    "\n",
    "torch.manual_seed(421)\n",
    "tau = 10\n",
    "n_layers = 6\n",
    "\n",
    "distances_matrix = generate_problem(n_cities, max_connections, distance_range)\n",
    "\n",
    "solution = solve_tsp_truncated_with_tn(distances_matrix, tau, n_layers)"
   ]
  },
  {
   "cell_type": "markdown",
   "metadata": {},
   "source": [
    "### Sparse"
   ]
  },
  {
   "cell_type": "code",
   "execution_count": null,
   "metadata": {},
   "outputs": [],
   "source": [
    "n_cities = 6\n",
    "max_connections = 4\n",
    "distance_range = 5\n",
    "\n",
    "torch.manual_seed(421)\n",
    "tau = 10\n",
    "n_layers = 3\n",
    "\n",
    "distances_matrix = generate_problem(n_cities, max_connections, distance_range)\n",
    "\n",
    "solution = solve_tsp_truncated_with_tn(distances_matrix, tau, n_layers)"
   ]
  },
  {
   "cell_type": "code",
   "execution_count": null,
   "metadata": {},
   "outputs": [],
   "source": [
    "n_cities = 16\n",
    "max_connections = 12\n",
    "distance_range = 5\n",
    "\n",
    "torch.manual_seed(421)\n",
    "tau = 10\n",
    "n_layers = 12\n",
    "\n",
    "distances_matrix = generate_problem(n_cities, max_connections, distance_range)\n",
    "\n",
    "solution = solve_tsp_truncated_with_tn(distances_matrix, tau, n_layers)"
   ]
  },
  {
   "cell_type": "markdown",
   "metadata": {},
   "source": [
    "## Basic TN full vs OR tools"
   ]
  },
  {
   "cell_type": "markdown",
   "metadata": {},
   "source": [
    "### Fully connected"
   ]
  },
  {
   "cell_type": "code",
   "execution_count": null,
   "metadata": {},
   "outputs": [],
   "source": [
    "n_cities = 6\n",
    "max_connections = 6\n",
    "distance_range = 5\n",
    "# \n",
    "torch.manual_seed(421)\n",
    "tau = 1\n",
    "\n",
    "distances_matrix = generate_problem(n_cities, max_connections, distance_range)\n",
    "\n",
    "solution_data = tn_vs_ortools(distances_matrix, tau, n_layers=None, verbose=True)\n"
   ]
  },
  {
   "cell_type": "code",
   "execution_count": null,
   "metadata": {},
   "outputs": [],
   "source": [
    "n_cities = 16\n",
    "max_connections = 16\n",
    "distance_range = 5\n",
    "\n",
    "torch.manual_seed(421)\n",
    "tau = 10\n",
    "\n",
    "distances_matrix = generate_problem(n_cities, max_connections, distance_range)\n",
    "\n",
    "solution_data = tn_vs_ortools(distances_matrix, tau, n_layers=None, verbose=True)"
   ]
  },
  {
   "cell_type": "markdown",
   "metadata": {},
   "source": [
    "### Sparse"
   ]
  },
  {
   "cell_type": "code",
   "execution_count": null,
   "metadata": {},
   "outputs": [],
   "source": [
    "n_cities = 6\n",
    "max_connections = 4\n",
    "distance_range = 5\n",
    "\n",
    "torch.manual_seed(421)\n",
    "tau = 10\n",
    "\n",
    "distances_matrix = generate_problem(n_cities, max_connections, distance_range)\n",
    "\n",
    "solution_data = tn_vs_ortools(distances_matrix, tau, n_layers=None, verbose=True)\n"
   ]
  },
  {
   "cell_type": "code",
   "execution_count": null,
   "metadata": {},
   "outputs": [],
   "source": [
    "n_cities = 16\n",
    "max_connections = 12\n",
    "distance_range = 5\n",
    "\n",
    "torch.manual_seed(421)\n",
    "tau = 10\n",
    "\n",
    "distances_matrix = generate_problem(n_cities, max_connections, distance_range)\n",
    "\n",
    "solution_data = tn_vs_ortools(distances_matrix, tau, n_layers=None, verbose=True)"
   ]
  },
  {
   "cell_type": "markdown",
   "metadata": {},
   "source": [
    "## Basic TN truncated vs OR tools"
   ]
  },
  {
   "cell_type": "markdown",
   "metadata": {},
   "source": [
    "### Full connected"
   ]
  },
  {
   "cell_type": "code",
   "execution_count": null,
   "metadata": {},
   "outputs": [],
   "source": [
    "n_cities = 6\n",
    "max_connections = 6\n",
    "distance_range = 5\n",
    "\n",
    "torch.manual_seed(421)\n",
    "tau = 10\n",
    "n_layers = 3\n",
    "\n",
    "distances_matrix = generate_problem(n_cities, max_connections, distance_range)\n",
    "\n",
    "solution_data = tn_vs_ortools(distances_matrix, tau, n_layers, verbose=True)"
   ]
  },
  {
   "cell_type": "code",
   "execution_count": null,
   "metadata": {},
   "outputs": [],
   "source": [
    "n_cities = 16\n",
    "max_connections = 16\n",
    "distance_range = 5\n",
    "\n",
    "torch.manual_seed(421)\n",
    "tau = 10\n",
    "n_layers = 6\n",
    "\n",
    "distances_matrix = generate_problem(n_cities, max_connections, distance_range)\n",
    "\n",
    "solution_data = tn_vs_ortools(distances_matrix, tau, n_layers, verbose=True)"
   ]
  },
  {
   "cell_type": "markdown",
   "metadata": {},
   "source": [
    "### Sparse"
   ]
  },
  {
   "cell_type": "code",
   "execution_count": null,
   "metadata": {},
   "outputs": [],
   "source": [
    "n_cities = 6\n",
    "max_connections = 4\n",
    "distance_range = 5\n",
    "\n",
    "torch.manual_seed(421)\n",
    "tau = 10\n",
    "n_layers = 3\n",
    "\n",
    "distances_matrix = generate_problem(n_cities, max_connections, distance_range)\n",
    "\n",
    "solution_data = tn_vs_ortools(distances_matrix, tau, n_layers, verbose=True)"
   ]
  },
  {
   "cell_type": "code",
   "execution_count": null,
   "metadata": {},
   "outputs": [],
   "source": [
    "n_cities = 16\n",
    "max_connections = 12\n",
    "distance_range = 5\n",
    "\n",
    "torch.manual_seed(421)\n",
    "tau = 10\n",
    "n_layers = 12\n",
    "\n",
    "distances_matrix = generate_problem(n_cities, max_connections, distance_range)\n",
    "\n",
    "solution_data = tn_vs_ortools(distances_matrix, tau, n_layers, verbose=True)"
   ]
  },
  {
   "cell_type": "markdown",
   "metadata": {},
   "source": [
    "---\n",
    "# Benchmarks"
   ]
  },
  {
   "cell_type": "markdown",
   "metadata": {},
   "source": [
    "TODO"
   ]
  },
  {
   "cell_type": "code",
   "execution_count": null,
   "metadata": {
    "id": "9qpdpd-Cw3a3"
   },
   "outputs": [],
   "source": []
  }
 ],
 "metadata": {
  "colab": {
   "collapsed_sections": [
    "GBpk4rzKrbgq",
    "OG5846cIrbgy",
    "_K0k7ofirbg0",
    "a8eDEzwHrbg4",
    "VhSuFNN4rbg4"
   ],
   "provenance": []
  },
  "kernelspec": {
   "display_name": ".venv",
   "language": "python",
   "name": "python3"
  },
  "language_info": {
   "codemirror_mode": {
    "name": "ipython",
    "version": 3
   },
   "file_extension": ".py",
   "mimetype": "text/x-python",
   "name": "python",
   "nbconvert_exporter": "python",
   "pygments_lexer": "ipython3",
   "version": "3.12.10"
  }
 },
 "nbformat": 4,
 "nbformat_minor": 0
}
